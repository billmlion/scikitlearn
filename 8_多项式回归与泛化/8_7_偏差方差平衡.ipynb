{
 "cells": [
  {
   "cell_type": "markdown",
   "metadata": {},
   "source": [
    "### 偏差和方差说明\n"
   ]
  },
  {
   "cell_type": "markdown",
   "metadata": {},
   "source": [
    "![偏差和方差说明](https://gitee.com/liaoyifeng/ml/raw/master/8_%E5%A4%9A%E9%A1%B9%E5%BC%8F%E5%9B%9E%E5%BD%92%E4%B8%8E%E6%B3%9B%E5%8C%96/vb.png)"
   ]
  },
  {
   "cell_type": "markdown",
   "metadata": {},
   "source": [
    "### 模型误差 = 偏差（bias）+ 方差（Variance）+ 不可避免的误差\n",
    "\n",
    "偏差\n",
    "--\n",
    "\n",
    "+ 导致偏差的主要原因：对问题本身对假设不正确,如：非线性数据使用线性回归\n",
    ">欠拟合 underfitting\n",
    "\n",
    "---\n",
    "\n",
    "方差\n",
    "---\n",
    "\n",
    "+ 数据的一点点扰动都会较大地影响模型,通常原因，使用的模型太复杂,如:高阶多项式回归。\n",
    ">过拟合overfitting\n",
    "\n",
    "机器学习的主要挑战，来自于方差！\n",
    "------------------------\n",
    "\n",
    "> 解决高方差的通常手段：\n",
    "\n",
    "> 1. 降低模型复杂度\n",
    "2. 减少数据纬度；降噪\n",
    "3. 增加样本数\n",
    "4. 使用验证集\n",
    "5. 模型正则化\n"
   ]
  },
  {
   "cell_type": "markdown",
   "metadata": {},
   "source": []
  },
  {
   "cell_type": "code",
   "execution_count": null,
   "metadata": {},
   "outputs": [],
   "source": []
  }
 ],
 "metadata": {
  "kernelspec": {
   "display_name": "Python 3",
   "language": "python",
   "name": "python3"
  },
  "language_info": {
   "codemirror_mode": {
    "name": "ipython",
    "version": 3
   },
   "file_extension": ".py",
   "mimetype": "text/x-python",
   "name": "python",
   "nbconvert_exporter": "python",
   "pygments_lexer": "ipython3",
   "version": "3.6.4"
  }
 },
 "nbformat": 4,
 "nbformat_minor": 2
}
